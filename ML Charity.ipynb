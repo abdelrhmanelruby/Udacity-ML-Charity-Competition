{
 "cells": [
  {
   "cell_type": "markdown",
   "metadata": {},
   "source": [
    "## Importing the libraries"
   ]
  },
  {
   "cell_type": "code",
   "execution_count": 1,
   "metadata": {},
   "outputs": [
    {
     "name": "stderr",
     "output_type": "stream",
     "text": [
      "<frozen importlib._bootstrap>:228: RuntimeWarning: scipy._lib.messagestream.MessageStream size changed, may indicate binary incompatibility. Expected 56 from C header, got 64 from PyObject\n"
     ]
    }
   ],
   "source": [
    "import pandas as pd\n",
    "import matplotlib.pyplot as plt\n",
    "import seaborn as sns\n",
    "import numpy as np\n",
    "from time import time\n",
    "from sklearn.impute import SimpleImputer\n",
    "from sklearn.compose import ColumnTransformer\n",
    "from sklearn.preprocessing import OneHotEncoder\n",
    "from sklearn.preprocessing import LabelEncoder\n",
    "from sklearn.preprocessing import StandardScaler\n",
    "from sklearn.preprocessing import MinMaxScaler\n",
    "from sklearn.model_selection import train_test_split\n",
    "from sklearn.metrics import make_scorer\n",
    "from sklearn.metrics import fbeta_score,accuracy_score\n",
    "from sklearn.model_selection import GridSearchCV\n",
    "from sklearn.ensemble import GradientBoostingClassifier,AdaBoostClassifier\n",
    "from xgboost import XGBClassifier\n",
    "from sklearn.metrics import roc_auc_score\n",
    "from sklearn.metrics import mean_squared_error\n",
    "import lightgbm as lgb\n"
   ]
  },
  {
   "cell_type": "markdown",
   "metadata": {},
   "source": [
    "## Importing the dataset"
   ]
  },
  {
   "cell_type": "code",
   "execution_count": 2,
   "metadata": {},
   "outputs": [],
   "source": [
    "dataset= pd.read_csv('dataset/census.csv')\n",
    "test = pd.read_csv('dataset/test_census.csv').iloc[:,1:]\n",
    "X = dataset.iloc[:,:-1]\n",
    "y = dataset.iloc[:,-1]"
   ]
  },
  {
   "cell_type": "markdown",
   "metadata": {},
   "source": [
    "## Check if there any missing values "
   ]
  },
  {
   "cell_type": "code",
   "execution_count": 3,
   "metadata": {},
   "outputs": [
    {
     "data": {
      "text/plain": [
       "age                0\n",
       "workclass          0\n",
       "education_level    0\n",
       "education-num      0\n",
       "marital-status     0\n",
       "occupation         0\n",
       "relationship       0\n",
       "race               0\n",
       "sex                0\n",
       "capital-gain       0\n",
       "capital-loss       0\n",
       "hours-per-week     0\n",
       "native-country     0\n",
       "income             0\n",
       "dtype: int64"
      ]
     },
     "execution_count": 3,
     "metadata": {},
     "output_type": "execute_result"
    }
   ],
   "source": [
    "dataset.isnull().sum()"
   ]
  },
  {
   "cell_type": "code",
   "execution_count": 4,
   "metadata": {},
   "outputs": [
    {
     "data": {
      "text/plain": [
       "age                17\n",
       "workclass          22\n",
       "education_level    20\n",
       "education-num      14\n",
       "marital-status     21\n",
       "occupation         22\n",
       "relationship       16\n",
       "race               19\n",
       "sex                19\n",
       "capital-gain       15\n",
       "capital-loss       17\n",
       "hours-per-week     13\n",
       "native-country     16\n",
       "dtype: int64"
      ]
     },
     "execution_count": 4,
     "metadata": {},
     "output_type": "execute_result"
    }
   ],
   "source": [
    "test.isnull().sum()"
   ]
  },
  {
   "cell_type": "markdown",
   "metadata": {},
   "source": [
    "## Handling Missing Values"
   ]
  },
  {
   "cell_type": "code",
   "execution_count": 5,
   "metadata": {},
   "outputs": [
    {
     "name": "stdout",
     "output_type": "stream",
     "text": [
      "(45222, 13)\n",
      "(45222, 13)\n"
     ]
    }
   ],
   "source": [
    "print(X.shape)\n",
    "print(test.shape)"
   ]
  },
  {
   "cell_type": "code",
   "execution_count": 6,
   "metadata": {},
   "outputs": [
    {
     "name": "stdout",
     "output_type": "stream",
     "text": [
      "(90444, 13)\n"
     ]
    }
   ],
   "source": [
    "new_X=pd.concat([X, test])\n",
    "print(new_X.shape)"
   ]
  },
  {
   "cell_type": "code",
   "execution_count": 7,
   "metadata": {},
   "outputs": [
    {
     "name": "stdout",
     "output_type": "stream",
     "text": [
      "<class 'pandas.core.frame.DataFrame'>\n",
      "Int64Index: 90444 entries, 0 to 45221\n",
      "Data columns (total 13 columns):\n",
      " #   Column           Non-Null Count  Dtype  \n",
      "---  ------           --------------  -----  \n",
      " 0   age              90427 non-null  float64\n",
      " 1   workclass        90422 non-null  object \n",
      " 2   education_level  90424 non-null  object \n",
      " 3   education-num    90430 non-null  float64\n",
      " 4   marital-status   90423 non-null  object \n",
      " 5   occupation       90422 non-null  object \n",
      " 6   relationship     90428 non-null  object \n",
      " 7   race             90425 non-null  object \n",
      " 8   sex              90425 non-null  object \n",
      " 9   capital-gain     90429 non-null  float64\n",
      " 10  capital-loss     90427 non-null  float64\n",
      " 11  hours-per-week   90431 non-null  float64\n",
      " 12  native-country   90428 non-null  object \n",
      "dtypes: float64(5), object(8)\n",
      "memory usage: 9.7+ MB\n"
     ]
    }
   ],
   "source": [
    "new_X.info()"
   ]
  },
  {
   "cell_type": "code",
   "execution_count": 8,
   "metadata": {},
   "outputs": [
    {
     "name": "stdout",
     "output_type": "stream",
     "text": [
      "Index(['age', 'education-num', 'capital-gain', 'capital-loss',\n",
      "       'hours-per-week'],\n",
      "      dtype='object')\n"
     ]
    }
   ],
   "source": [
    "num=new_X.select_dtypes(include=['int64','float64'])\n",
    "num1=num.columns\n",
    "print(num.columns)"
   ]
  },
  {
   "cell_type": "code",
   "execution_count": 9,
   "metadata": {},
   "outputs": [
    {
     "name": "stdout",
     "output_type": "stream",
     "text": [
      "Index(['workclass', 'education_level', 'marital-status', 'occupation',\n",
      "       'relationship', 'race', 'sex', 'native-country'],\n",
      "      dtype='object')\n"
     ]
    }
   ],
   "source": [
    "cat=new_X.select_dtypes(include='object')\n",
    "cat1=cat.columns\n",
    "print(cat.columns)"
   ]
  },
  {
   "cell_type": "code",
   "execution_count": 10,
   "metadata": {},
   "outputs": [],
   "source": [
    "imputer1 = SimpleImputer(missing_values=np.nan, strategy='median') \n",
    "imputer1.fit(new_X[num1])\n",
    "new_X[num1] = imputer1.transform(new_X[num1])\n",
    "imputer2 = SimpleImputer(missing_values=np.nan, strategy='most_frequent') \n",
    "imputer2.fit(new_X[cat1])\n",
    "new_X[cat1] = imputer2.transform(new_X[cat1])"
   ]
  },
  {
   "cell_type": "code",
   "execution_count": 11,
   "metadata": {},
   "outputs": [
    {
     "data": {
      "text/plain": [
       "age                0\n",
       "workclass          0\n",
       "education_level    0\n",
       "education-num      0\n",
       "marital-status     0\n",
       "occupation         0\n",
       "relationship       0\n",
       "race               0\n",
       "sex                0\n",
       "capital-gain       0\n",
       "capital-loss       0\n",
       "hours-per-week     0\n",
       "native-country     0\n",
       "dtype: int64"
      ]
     },
     "execution_count": 11,
     "metadata": {},
     "output_type": "execute_result"
    }
   ],
   "source": [
    "new_X.isnull().sum()"
   ]
  },
  {
   "cell_type": "markdown",
   "metadata": {},
   "source": [
    "## Data Exploration"
   ]
  },
  {
   "cell_type": "code",
   "execution_count": 12,
   "metadata": {},
   "outputs": [
    {
     "name": "stdout",
     "output_type": "stream",
     "text": [
      "<class 'pandas.core.frame.DataFrame'>\n",
      "Int64Index: 90444 entries, 0 to 45221\n",
      "Data columns (total 13 columns):\n",
      " #   Column           Non-Null Count  Dtype  \n",
      "---  ------           --------------  -----  \n",
      " 0   age              90444 non-null  float64\n",
      " 1   workclass        90444 non-null  object \n",
      " 2   education_level  90444 non-null  object \n",
      " 3   education-num    90444 non-null  float64\n",
      " 4   marital-status   90444 non-null  object \n",
      " 5   occupation       90444 non-null  object \n",
      " 6   relationship     90444 non-null  object \n",
      " 7   race             90444 non-null  object \n",
      " 8   sex              90444 non-null  object \n",
      " 9   capital-gain     90444 non-null  float64\n",
      " 10  capital-loss     90444 non-null  float64\n",
      " 11  hours-per-week   90444 non-null  float64\n",
      " 12  native-country   90444 non-null  object \n",
      "dtypes: float64(5), object(8)\n",
      "memory usage: 9.7+ MB\n"
     ]
    }
   ],
   "source": [
    "new_X.info()"
   ]
  },
  {
   "cell_type": "code",
   "execution_count": 13,
   "metadata": {},
   "outputs": [
    {
     "data": {
      "text/html": [
       "<div>\n",
       "<style scoped>\n",
       "    .dataframe tbody tr th:only-of-type {\n",
       "        vertical-align: middle;\n",
       "    }\n",
       "\n",
       "    .dataframe tbody tr th {\n",
       "        vertical-align: top;\n",
       "    }\n",
       "\n",
       "    .dataframe thead th {\n",
       "        text-align: right;\n",
       "    }\n",
       "</style>\n",
       "<table border=\"1\" class=\"dataframe\">\n",
       "  <thead>\n",
       "    <tr style=\"text-align: right;\">\n",
       "      <th></th>\n",
       "      <th>age</th>\n",
       "      <th>education-num</th>\n",
       "      <th>capital-gain</th>\n",
       "      <th>capital-loss</th>\n",
       "      <th>hours-per-week</th>\n",
       "    </tr>\n",
       "  </thead>\n",
       "  <tbody>\n",
       "    <tr>\n",
       "      <th>count</th>\n",
       "      <td>90444.000000</td>\n",
       "      <td>90444.000000</td>\n",
       "      <td>90444.000000</td>\n",
       "      <td>90444.000000</td>\n",
       "      <td>90444.000000</td>\n",
       "    </tr>\n",
       "    <tr>\n",
       "      <th>mean</th>\n",
       "      <td>38.548671</td>\n",
       "      <td>10.118471</td>\n",
       "      <td>1100.324698</td>\n",
       "      <td>88.578999</td>\n",
       "      <td>40.938548</td>\n",
       "    </tr>\n",
       "    <tr>\n",
       "      <th>std</th>\n",
       "      <td>13.216945</td>\n",
       "      <td>2.552635</td>\n",
       "      <td>7499.182577</td>\n",
       "      <td>404.927339</td>\n",
       "      <td>12.006565</td>\n",
       "    </tr>\n",
       "    <tr>\n",
       "      <th>min</th>\n",
       "      <td>17.000000</td>\n",
       "      <td>1.000000</td>\n",
       "      <td>0.000000</td>\n",
       "      <td>0.000000</td>\n",
       "      <td>1.000000</td>\n",
       "    </tr>\n",
       "    <tr>\n",
       "      <th>25%</th>\n",
       "      <td>28.000000</td>\n",
       "      <td>9.000000</td>\n",
       "      <td>0.000000</td>\n",
       "      <td>0.000000</td>\n",
       "      <td>40.000000</td>\n",
       "    </tr>\n",
       "    <tr>\n",
       "      <th>50%</th>\n",
       "      <td>37.000000</td>\n",
       "      <td>10.000000</td>\n",
       "      <td>0.000000</td>\n",
       "      <td>0.000000</td>\n",
       "      <td>40.000000</td>\n",
       "    </tr>\n",
       "    <tr>\n",
       "      <th>75%</th>\n",
       "      <td>47.000000</td>\n",
       "      <td>13.000000</td>\n",
       "      <td>0.000000</td>\n",
       "      <td>0.000000</td>\n",
       "      <td>45.000000</td>\n",
       "    </tr>\n",
       "    <tr>\n",
       "      <th>max</th>\n",
       "      <td>90.000000</td>\n",
       "      <td>16.000000</td>\n",
       "      <td>99999.000000</td>\n",
       "      <td>4356.000000</td>\n",
       "      <td>99.000000</td>\n",
       "    </tr>\n",
       "  </tbody>\n",
       "</table>\n",
       "</div>"
      ],
      "text/plain": [
       "                age  education-num  capital-gain  capital-loss  hours-per-week\n",
       "count  90444.000000   90444.000000  90444.000000  90444.000000    90444.000000\n",
       "mean      38.548671      10.118471   1100.324698     88.578999       40.938548\n",
       "std       13.216945       2.552635   7499.182577    404.927339       12.006565\n",
       "min       17.000000       1.000000      0.000000      0.000000        1.000000\n",
       "25%       28.000000       9.000000      0.000000      0.000000       40.000000\n",
       "50%       37.000000      10.000000      0.000000      0.000000       40.000000\n",
       "75%       47.000000      13.000000      0.000000      0.000000       45.000000\n",
       "max       90.000000      16.000000  99999.000000   4356.000000       99.000000"
      ]
     },
     "execution_count": 13,
     "metadata": {},
     "output_type": "execute_result"
    }
   ],
   "source": [
    "new_X.describe()"
   ]
  },
  {
   "cell_type": "code",
   "execution_count": 14,
   "metadata": {},
   "outputs": [
    {
     "data": {
      "image/png": "[encoded data removed]",
      "text/plain": [
       "<Figure size 640x480 with 2 Axes>"
      ]
     },
     "metadata": {},
     "output_type": "display_data"
    }
   ],
   "source": [
    "heatmap = sns.heatmap(new_X.corr(), vmin=-1, vmax=1, annot=True,cmap='BrBG')\n",
    "heatmap.set_title('Correlation Heatmap', fontdict={'fontsize':12}, pad=12)\n",
    "plt.show()"
   ]
  },
  {
   "cell_type": "markdown",
   "metadata": {},
   "source": [
    "## Scaling & encoding "
   ]
  },
  {
   "cell_type": "code",
   "execution_count": 15,
   "metadata": {},
   "outputs": [],
   "source": [
    "skewed = ['capital-gain', 'capital-loss']\n",
    "# Log-transform the skewed features (create function to use later for test set)\n",
    "def log_transform(data):\n",
    "    return data[skewed].apply(lambda x: np.log(x + 1))\n",
    "    \n",
    "new_X[skewed] = log_transform(new_X)"
   ]
  },
  {
   "cell_type": "code",
   "execution_count": 16,
   "metadata": {},
   "outputs": [
    {
     "data": {
      "text/html": [
       "<div>\n",
       "<style scoped>\n",
       "    .dataframe tbody tr th:only-of-type {\n",
       "        vertical-align: middle;\n",
       "    }\n",
       "\n",
       "    .dataframe tbody tr th {\n",
       "        vertical-align: top;\n",
       "    }\n",
       "\n",
       "    .dataframe thead th {\n",
       "        text-align: right;\n",
       "    }\n",
       "</style>\n",
       "<table border=\"1\" class=\"dataframe\">\n",
       "  <thead>\n",
       "    <tr style=\"text-align: right;\">\n",
       "      <th></th>\n",
       "      <th>capital-gain</th>\n",
       "      <th>capital-loss</th>\n",
       "    </tr>\n",
       "  </thead>\n",
       "  <tbody>\n",
       "    <tr>\n",
       "      <th>count</th>\n",
       "      <td>90444.000000</td>\n",
       "      <td>90444.000000</td>\n",
       "    </tr>\n",
       "    <tr>\n",
       "      <th>mean</th>\n",
       "      <td>0.740632</td>\n",
       "      <td>0.355408</td>\n",
       "    </tr>\n",
       "    <tr>\n",
       "      <th>std</th>\n",
       "      <td>2.466255</td>\n",
       "      <td>1.595738</td>\n",
       "    </tr>\n",
       "    <tr>\n",
       "      <th>min</th>\n",
       "      <td>0.000000</td>\n",
       "      <td>0.000000</td>\n",
       "    </tr>\n",
       "    <tr>\n",
       "      <th>25%</th>\n",
       "      <td>0.000000</td>\n",
       "      <td>0.000000</td>\n",
       "    </tr>\n",
       "    <tr>\n",
       "      <th>50%</th>\n",
       "      <td>0.000000</td>\n",
       "      <td>0.000000</td>\n",
       "    </tr>\n",
       "    <tr>\n",
       "      <th>75%</th>\n",
       "      <td>0.000000</td>\n",
       "      <td>0.000000</td>\n",
       "    </tr>\n",
       "    <tr>\n",
       "      <th>max</th>\n",
       "      <td>11.512925</td>\n",
       "      <td>8.379539</td>\n",
       "    </tr>\n",
       "  </tbody>\n",
       "</table>\n",
       "</div>"
      ],
      "text/plain": [
       "       capital-gain  capital-loss\n",
       "count  90444.000000  90444.000000\n",
       "mean       0.740632      0.355408\n",
       "std        2.466255      1.595738\n",
       "min        0.000000      0.000000\n",
       "25%        0.000000      0.000000\n",
       "50%        0.000000      0.000000\n",
       "75%        0.000000      0.000000\n",
       "max       11.512925      8.379539"
      ]
     },
     "execution_count": 16,
     "metadata": {},
     "output_type": "execute_result"
    }
   ],
   "source": [
    "new_X[skewed].describe()"
   ]
  },
  {
   "cell_type": "code",
   "execution_count": 17,
   "metadata": {},
   "outputs": [
    {
     "data": {
      "text/html": [
       "<div>\n",
       "<style scoped>\n",
       "    .dataframe tbody tr th:only-of-type {\n",
       "        vertical-align: middle;\n",
       "    }\n",
       "\n",
       "    .dataframe tbody tr th {\n",
       "        vertical-align: top;\n",
       "    }\n",
       "\n",
       "    .dataframe thead th {\n",
       "        text-align: right;\n",
       "    }\n",
       "</style>\n",
       "<table border=\"1\" class=\"dataframe\">\n",
       "  <thead>\n",
       "    <tr style=\"text-align: right;\">\n",
       "      <th></th>\n",
       "      <th>age</th>\n",
       "      <th>workclass</th>\n",
       "      <th>education_level</th>\n",
       "      <th>education-num</th>\n",
       "      <th>marital-status</th>\n",
       "      <th>occupation</th>\n",
       "      <th>relationship</th>\n",
       "      <th>race</th>\n",
       "      <th>sex</th>\n",
       "      <th>capital-gain</th>\n",
       "      <th>capital-loss</th>\n",
       "      <th>hours-per-week</th>\n",
       "      <th>native-country</th>\n",
       "    </tr>\n",
       "  </thead>\n",
       "  <tbody>\n",
       "    <tr>\n",
       "      <th>0</th>\n",
       "      <td>0.301370</td>\n",
       "      <td>State-gov</td>\n",
       "      <td>Bachelors</td>\n",
       "      <td>0.800000</td>\n",
       "      <td>Never-married</td>\n",
       "      <td>Adm-clerical</td>\n",
       "      <td>Not-in-family</td>\n",
       "      <td>White</td>\n",
       "      <td>Male</td>\n",
       "      <td>0.667492</td>\n",
       "      <td>0.0</td>\n",
       "      <td>0.397959</td>\n",
       "      <td>United-States</td>\n",
       "    </tr>\n",
       "    <tr>\n",
       "      <th>1</th>\n",
       "      <td>0.452055</td>\n",
       "      <td>Self-emp-not-inc</td>\n",
       "      <td>Bachelors</td>\n",
       "      <td>0.800000</td>\n",
       "      <td>Married-civ-spouse</td>\n",
       "      <td>Exec-managerial</td>\n",
       "      <td>Husband</td>\n",
       "      <td>White</td>\n",
       "      <td>Male</td>\n",
       "      <td>0.000000</td>\n",
       "      <td>0.0</td>\n",
       "      <td>0.122449</td>\n",
       "      <td>United-States</td>\n",
       "    </tr>\n",
       "    <tr>\n",
       "      <th>2</th>\n",
       "      <td>0.287671</td>\n",
       "      <td>Private</td>\n",
       "      <td>HS-grad</td>\n",
       "      <td>0.533333</td>\n",
       "      <td>Divorced</td>\n",
       "      <td>Handlers-cleaners</td>\n",
       "      <td>Not-in-family</td>\n",
       "      <td>White</td>\n",
       "      <td>Male</td>\n",
       "      <td>0.000000</td>\n",
       "      <td>0.0</td>\n",
       "      <td>0.397959</td>\n",
       "      <td>United-States</td>\n",
       "    </tr>\n",
       "    <tr>\n",
       "      <th>3</th>\n",
       "      <td>0.493151</td>\n",
       "      <td>Private</td>\n",
       "      <td>11th</td>\n",
       "      <td>0.400000</td>\n",
       "      <td>Married-civ-spouse</td>\n",
       "      <td>Handlers-cleaners</td>\n",
       "      <td>Husband</td>\n",
       "      <td>Black</td>\n",
       "      <td>Male</td>\n",
       "      <td>0.000000</td>\n",
       "      <td>0.0</td>\n",
       "      <td>0.397959</td>\n",
       "      <td>United-States</td>\n",
       "    </tr>\n",
       "    <tr>\n",
       "      <th>4</th>\n",
       "      <td>0.150685</td>\n",
       "      <td>Private</td>\n",
       "      <td>Bachelors</td>\n",
       "      <td>0.800000</td>\n",
       "      <td>Married-civ-spouse</td>\n",
       "      <td>Prof-specialty</td>\n",
       "      <td>Wife</td>\n",
       "      <td>Black</td>\n",
       "      <td>Female</td>\n",
       "      <td>0.000000</td>\n",
       "      <td>0.0</td>\n",
       "      <td>0.397959</td>\n",
       "      <td>Cuba</td>\n",
       "    </tr>\n",
       "  </tbody>\n",
       "</table>\n",
       "</div>"
      ],
      "text/plain": [
       "        age          workclass education_level  education-num  \\\n",
       "0  0.301370          State-gov       Bachelors       0.800000   \n",
       "1  0.452055   Self-emp-not-inc       Bachelors       0.800000   \n",
       "2  0.287671            Private         HS-grad       0.533333   \n",
       "3  0.493151            Private            11th       0.400000   \n",
       "4  0.150685            Private       Bachelors       0.800000   \n",
       "\n",
       "        marital-status          occupation    relationship    race      sex  \\\n",
       "0        Never-married        Adm-clerical   Not-in-family   White     Male   \n",
       "1   Married-civ-spouse     Exec-managerial         Husband   White     Male   \n",
       "2             Divorced   Handlers-cleaners   Not-in-family   White     Male   \n",
       "3   Married-civ-spouse   Handlers-cleaners         Husband   Black     Male   \n",
       "4   Married-civ-spouse      Prof-specialty            Wife   Black   Female   \n",
       "\n",
       "   capital-gain  capital-loss  hours-per-week  native-country  \n",
       "0      0.667492           0.0        0.397959   United-States  \n",
       "1      0.000000           0.0        0.122449   United-States  \n",
       "2      0.000000           0.0        0.397959   United-States  \n",
       "3      0.000000           0.0        0.397959   United-States  \n",
       "4      0.000000           0.0        0.397959            Cuba  "
      ]
     },
     "execution_count": 17,
     "metadata": {},
     "output_type": "execute_result"
    }
   ],
   "source": [
    "sc = MinMaxScaler()\n",
    "new_X[num1]=sc.fit_transform(new_X[num1])\n",
    "new_X.head()"
   ]
  },
  {
   "cell_type": "code",
   "execution_count": 18,
   "metadata": {},
   "outputs": [],
   "source": [
    "new_X= pd.get_dummies(new_X)"
   ]
  },
  {
   "cell_type": "markdown",
   "metadata": {},
   "source": [
    "## Splitting the dataset into the Training set and Test set"
   ]
  },
  {
   "cell_type": "code",
   "execution_count": 19,
   "metadata": {},
   "outputs": [],
   "source": [
    "y=y.replace({ \"<=50K\" :0 , \">50K\" : 1})"
   ]
  },
  {
   "cell_type": "code",
   "execution_count": 20,
   "metadata": {},
   "outputs": [],
   "source": [
    "X1=new_X.iloc[:dataset.shape[0]]\n",
    "test1=new_X.iloc[dataset.shape[0]:]"
   ]
  },
  {
   "cell_type": "code",
   "execution_count": 21,
   "metadata": {},
   "outputs": [
    {
     "name": "stdout",
     "output_type": "stream",
     "text": [
      "(45222, 103)\n",
      "(45222, 103)\n"
     ]
    }
   ],
   "source": [
    "print(X1.shape)\n",
    "print(test1.shape)"
   ]
  },
  {
   "cell_type": "code",
   "execution_count": 22,
   "metadata": {},
   "outputs": [],
   "source": [
    "X_train, X_test, y_train, y_test = train_test_split(X1, y, test_size = 0.2, random_state = 0)"
   ]
  },
  {
   "cell_type": "code",
   "execution_count": 23,
   "metadata": {},
   "outputs": [
    {
     "name": "stdout",
     "output_type": "stream",
     "text": [
      "Unoptimized model\n",
      "------\n",
      "ROC-AUC score on testing data: 0.9272\n"
     ]
    }
   ],
   "source": [
    "model=XGBClassifier(tree_method='gpu_hist',use_rmm=True)\n",
    "model.fit(X_train,y_train)\n",
    "\n",
    "# Make predictions using the unoptimized and model\n",
    "pred = model.predict_proba(X_test)[:, 1]\n",
    "\n",
    "# Report the before-and-afterscores\n",
    "print(\"Unoptimized model\\n------\")\n",
    "#print(\"Accuracy score on testing data: {:.4f}\".format(accuracy_score(y_test, pred)))\n",
    "print(\"ROC-AUC score on testing data: {:.4f}\".format(roc_auc_score(y_test, pred)))\n",
    "#print(\"F-score on testing data: {:.4f}\".format(fbeta_score(y_test, pred, beta = 0.5)))"
   ]
  },
  {
   "cell_type": "code",
   "execution_count": 24,
   "metadata": {},
   "outputs": [
    {
     "name": "stdout",
     "output_type": "stream",
     "text": [
      "Unoptimized model\n",
      "------\n",
      "ROC-AUC score on testing data: 0.9148\n"
     ]
    }
   ],
   "source": [
    "model=AdaBoostClassifier()\n",
    "model.fit(X_train,y_train)\n",
    "\n",
    "# Make predictions using the unoptimized and model\n",
    "pred = model.predict_proba(X_test)[:, 1]\n",
    "\n",
    "# Report the before-and-afterscores\n",
    "print(\"Unoptimized model\\n------\")\n",
    "#print(\"Accuracy score on testing data: {:.4f}\".format(accuracy_score(y_test, pred)))\n",
    "print(\"ROC-AUC score on testing data: {:.4f}\".format(roc_auc_score(y_test, pred)))\n",
    "#print(\"F-score on testing data: {:.4f}\".format(fbeta_score(y_test, pred, beta = 0.5)))"
   ]
  },
  {
   "cell_type": "code",
   "execution_count": 25,
   "metadata": {},
   "outputs": [
    {
     "name": "stdout",
     "output_type": "stream",
     "text": [
      "Unoptimized model\n",
      "------\n",
      "ROC-AUC score on testing data: 0.9208\n"
     ]
    }
   ],
   "source": [
    "model=GradientBoostingClassifier()\n",
    "model.fit(X_train,y_train)\n",
    "\n",
    "# Make predictions using the unoptimized and model\n",
    "pred = model.predict_proba(X_test)[:, 1]\n",
    "\n",
    "# Report the before-and-afterscores\n",
    "print(\"Unoptimized model\\n------\")\n",
    "#print(\"Accuracy score on testing data: {:.4f}\".format(accuracy_score(y_test, pred)))\n",
    "print(\"ROC-AUC score on testing data: {:.4f}\".format(roc_auc_score(y_test, pred)))\n",
    "#print(\"F-score on testing data: {:.4f}\".format(fbeta_score(y_test, pred, beta = 0.5)))"
   ]
  },
  {
   "cell_type": "code",
   "execution_count": 26,
   "metadata": {},
   "outputs": [
    {
     "name": "stdout",
     "output_type": "stream",
     "text": [
      "Unoptimized model\n",
      "------\n",
      "ROC-AUC score on testing data: 0.9287\n"
     ]
    }
   ],
   "source": [
    "model = lgb.LGBMClassifier(device_type='gpu')\n",
    "model.fit(X_train,y_train)\n",
    "\n",
    "# Make predictions using the unoptimized and model\n",
    "pred = model.predict_proba(X_test)[:, 1]\n",
    "\n",
    "# Report the before-and-afterscores\n",
    "print(\"Unoptimized model\\n------\")\n",
    "#print(\"Accuracy score on testing data: {:.4f}\".format(accuracy_score(y_test, pred)))\n",
    "print(\"ROC-AUC score on testing data: {:.4f}\".format(roc_auc_score(y_test, pred)))\n",
    "#print(\"F-score on testing data: {:.4f}\".format(fbeta_score(y_test, pred, beta = 0.5)))"
   ]
  },
  {
   "cell_type": "markdown",
   "metadata": {},
   "source": [
    "# Hyperparameter Tuning For XGBClassifier"
   ]
  },
  {
   "cell_type": "code",
   "execution_count": 27,
   "metadata": {},
   "outputs": [
    {
     "name": "stdout",
     "output_type": "stream",
     "text": [
      "Unoptimized model\n",
      "------\n",
      "ROC-AUC score on testing data: 0.9272\n",
      "\n",
      "Optimized Model\n",
      "------\n",
      "Final ROC-AUC score on the testing data: 0.9284\n"
     ]
    }
   ],
   "source": [
    "clf=XGBClassifier(tree_method='gpu_hist',use_rmm=True)\n",
    "#parameters = {'n_estimators': range(20,1021,100)}\n",
    "#parameters = { 'n_estimators': range(1000,1501,100)}\n",
    "#parameters = { 'n_estimators': range(2000,3001,200)}\n",
    "#parameters = { 'n_estimators': range(20,101,5)}\n",
    "#parameters = { 'n_estimators': [60,100,120,1000,2000]}\n",
    "#parameters = { 'n_estimators': [120],'max_depth':range(2,12,1)}\n",
    "#parameters = { 'n_estimators': [120],'max_depth':[5],'min_child_weight':range(0,15,1)}\n",
    "#parameters = { 'n_estimators': [120],'max_depth':[5],'min_child_weight':[0],'subsample':[0.1,0.2,0.3,0.4,0.5,0.55,0.6,0.7,0.75,0.8,0.85,0.9]}\n",
    "#parameters = { 'n_estimators': [120],'max_depth':[5],'min_child_weight':[0],'subsample':[0.9,0.91,0.92,0.93,0.94,0.95,0.96,0.97,0.98,0.99]}\n",
    "#parameters = { 'n_estimators': [120],'max_depth':[5],'min_child_weight':[0],'subsample':[0.93],'learning_rate':[0.1,0.2,0.3,0.4,0.5,0.6,0.7,0.8,0.9]}\n",
    "#parameters = { 'n_estimators': [120],'max_depth':[5],'min_child_weight':[0],'subsample':[0.93],'learning_rate':[0.3],'gamma':[0,0.1,0.2,0.3,0.4,0.5,0.6,0.7,0.8,0.9]}\n",
    "parameters = { 'n_estimators': [120],'max_depth':[5],'min_child_weight':[0],'subsample':[0.93],'learning_rate':[0.3],'gamma':[0]}\n",
    "# TODO: Make an fbeta_score scoring object using make_scorer()\n",
    "scorer = make_scorer(roc_auc_score)\n",
    "\n",
    "# TODO: Perform grid search on the classifier using 'scorer' as the scoring method using GridSearchCV()\n",
    "grid_obj = GridSearchCV(estimator=clf,param_grid=parameters,scoring=scorer,n_jobs=-1,cv=5)\n",
    "\n",
    "# TODO: Fit the grid search object to the training data and find the optimal parameters using fit()\n",
    "grid_fit = grid_obj.fit(X_train,y_train)\n",
    "\n",
    "# Get the estimator\n",
    "best_clf = grid_fit.best_estimator_\n",
    "\n",
    "# Make predictions using the unoptimized and model\n",
    "predictions = (clf.fit(X_train, y_train)).predict_proba(X_test)[:, 1]\n",
    "best_predictions = best_clf.predict_proba(X_test)[:, 1]\n",
    "\n",
    "# Report the before-and-afterscores\n",
    "print(\"Unoptimized model\\n------\")\n",
    "#print(\"Accuracy score on testing data: {:.4f}\".format(accuracy_score(y_test, predictions)))\n",
    "print(\"ROC-AUC score on testing data: {:.4f}\".format(roc_auc_score(y_test, predictions)))\n",
    "#print(\"F-score on testing data: {:.4f}\".format(fbeta_score(y_test, predictions, beta = 0.5)))\n",
    "print(\"\\nOptimized Model\\n------\")\n",
    "#print(\"Final accuracy score on the testing data: {:.4f}\".format(accuracy_score(y_test, best_predictions)))\n",
    "print(\"Final ROC-AUC score on the testing data: {:.4f}\".format(roc_auc_score(y_test, best_predictions)))\n",
    "#print(\"Final F-score on the testing data: {:.4f}\".format(fbeta_score(y_test, best_predictions, beta = 0.5)))"
   ]
  },
  {
   "cell_type": "code",
   "execution_count": 28,
   "metadata": {},
   "outputs": [
    {
     "data": {
      "text/plain": [
       "{'objective': 'binary:logistic',\n",
       " 'base_score': 0.5,\n",
       " 'booster': 'gbtree',\n",
       " 'colsample_bylevel': 1,\n",
       " 'colsample_bynode': 1,\n",
       " 'colsample_bytree': 1,\n",
       " 'eval_metric': None,\n",
       " 'gamma': 0,\n",
       " 'gpu_id': 0,\n",
       " 'grow_policy': 'depthwise',\n",
       " 'interaction_constraints': '',\n",
       " 'learning_rate': 0.3,\n",
       " 'max_bin': 256,\n",
       " 'max_cat_to_onehot': 4,\n",
       " 'max_delta_step': 0,\n",
       " 'max_depth': 5,\n",
       " 'max_leaves': 0,\n",
       " 'min_child_weight': 0,\n",
       " 'monotone_constraints': '()',\n",
       " 'n_jobs': 0,\n",
       " 'num_parallel_tree': 1,\n",
       " 'predictor': 'auto',\n",
       " 'random_state': 0,\n",
       " 'reg_alpha': 0,\n",
       " 'reg_lambda': 1,\n",
       " 'sampling_method': 'uniform',\n",
       " 'scale_pos_weight': 1,\n",
       " 'subsample': 0.93,\n",
       " 'tree_method': 'gpu_hist',\n",
       " 'validate_parameters': 1,\n",
       " 'verbosity': None,\n",
       " 'use_rmm': True}"
      ]
     },
     "execution_count": 28,
     "metadata": {},
     "output_type": "execute_result"
    }
   ],
   "source": [
    "best_clf.get_xgb_params()"
   ]
  },
  {
   "cell_type": "markdown",
   "metadata": {},
   "source": [
    "# Hyperparameter Tuning For LGBMClassifier"
   ]
  },
  {
   "cell_type": "code",
   "execution_count": 29,
   "metadata": {},
   "outputs": [
    {
     "name": "stdout",
     "output_type": "stream",
     "text": [
      "Unoptimized model\n",
      "------\n",
      "ROC-AUC score on testing data: 0.9287\n",
      "\n",
      "Optimized Model\n",
      "------\n",
      "Final ROC-AUC score on the testing data: 0.9286\n"
     ]
    }
   ],
   "source": [
    "clf=lgb.LGBMClassifier(random_state=42,boosting_type='gbdt',device_type='gpu')\n",
    "#parameters = {'n_estimators': range(20,1021,100)}\n",
    "#parameters = { 'n_estimators': range(1000,1501,100)}\n",
    "#parameters = { 'n_estimators': range(2000,3001,200)}\n",
    "#parameters = { 'n_estimators': range(20,101,5)}\n",
    "#parameters = { 'n_estimators': [90,100,320,1000,2000]}\n",
    "#parameters = { 'n_estimators': [90],'max_depth':range(-1,12,1)}\n",
    "#parameters = { 'n_estimators': [90],'max_depth':[-1],'learning_rate':[0.1,0.2,0.3,0.4,0.5,0.6,0.7,0.8,0.9,0.01]}\n",
    "#parameters = { 'n_estimators': [90],'max_depth':[-1],'learning_rate':[0.1],'min_child_samples':range(1,30,1)}\n",
    "#parameters = { 'n_estimators': [90],'max_depth':[-1],'learning_rate':[0.1],'min_child_samples':[6],'subsample':np.arange(0.01,1,0.01)}\n",
    "parameters = { 'n_estimators': [90],'max_depth':[-1],'learning_rate':[0.1],'min_child_samples':[6],'subsample':[0.01]}\n",
    "\n",
    "\n",
    "# TODO: Make an fbeta_score scoring object using make_scorer()\n",
    "scorer = make_scorer(roc_auc_score)\n",
    "\n",
    "# TODO: Perform grid search on the classifier using 'scorer' as the scoring method using GridSearchCV()\n",
    "grid_obj = GridSearchCV(estimator=clf,param_grid=parameters,scoring=scorer,n_jobs=-1,cv=5)\n",
    "\n",
    "# TODO: Fit the grid search object to the training data and find the optimal parameters using fit()\n",
    "grid_fit = grid_obj.fit(X_train,y_train)\n",
    "\n",
    "# Get the estimator\n",
    "best_clf = grid_fit.best_estimator_\n",
    "\n",
    "# Make predictions using the unoptimized and model\n",
    "predictions = (clf.fit(X_train, y_train)).predict_proba(X_test)[:, 1]\n",
    "best_predictions = best_clf.predict_proba(X_test)[:, 1]\n",
    "\n",
    "# Report the before-and-afterscores\n",
    "print(\"Unoptimized model\\n------\")\n",
    "#print(\"Accuracy score on testing data: {:.4f}\".format(accuracy_score(y_test, predictions)))\n",
    "print(\"ROC-AUC score on testing data: {:.4f}\".format(roc_auc_score(y_test, predictions)))\n",
    "#print(\"F-score on testing data: {:.4f}\".format(fbeta_score(y_test, predictions, beta = 0.5)))\n",
    "print(\"\\nOptimized Model\\n------\")\n",
    "#print(\"Final accuracy score on the testing data: {:.4f}\".format(accuracy_score(y_test, best_predictions)))\n",
    "print(\"Final ROC-AUC score on the testing data: {:.4f}\".format(roc_auc_score(y_test, best_predictions)))\n",
    "#print(\"Final F-score on the testing data: {:.4f}\".format(fbeta_score(y_test, best_predictions, beta = 0.5)))"
   ]
  },
  {
   "cell_type": "code",
   "execution_count": 30,
   "metadata": {},
   "outputs": [
    {
     "data": {
      "text/plain": [
       "{'boosting_type': 'gbdt',\n",
       " 'class_weight': None,\n",
       " 'colsample_bytree': 1.0,\n",
       " 'importance_type': 'split',\n",
       " 'learning_rate': 0.1,\n",
       " 'max_depth': -1,\n",
       " 'min_child_samples': 6,\n",
       " 'min_child_weight': 0.001,\n",
       " 'min_split_gain': 0.0,\n",
       " 'n_estimators': 90,\n",
       " 'n_jobs': -1,\n",
       " 'num_leaves': 31,\n",
       " 'objective': None,\n",
       " 'random_state': 42,\n",
       " 'reg_alpha': 0.0,\n",
       " 'reg_lambda': 0.0,\n",
       " 'silent': 'warn',\n",
       " 'subsample': 0.01,\n",
       " 'subsample_for_bin': 200000,\n",
       " 'subsample_freq': 0,\n",
       " 'device_type': 'gpu'}"
      ]
     },
     "execution_count": 30,
     "metadata": {},
     "output_type": "execute_result"
    }
   ],
   "source": [
    "best_clf.get_params(['deep'])"
   ]
  },
  {
   "cell_type": "markdown",
   "metadata": {},
   "source": [
    "# Hyperparameter Tuning For GradientBoostingClassifier"
   ]
  },
  {
   "cell_type": "code",
   "execution_count": 31,
   "metadata": {},
   "outputs": [
    {
     "name": "stdout",
     "output_type": "stream",
     "text": [
      "Unoptimized model\n",
      "------\n",
      "ROC-AUC score on testing data: 0.9208\n",
      "\n",
      "Optimized Model\n",
      "------\n",
      "Final ROC-AUC score on the testing data: 0.9285\n"
     ]
    }
   ],
   "source": [
    "clf=GradientBoostingClassifier(random_state=42)\n",
    "#parameters = {'n_estimators': range(20,1021,100)}\n",
    "#parameters = { 'n_estimators': range(1000,1501,100)}\n",
    "#parameters = { 'n_estimators': range(2000,3001,200)}\n",
    "#parameters = { 'n_estimators': range(20,101,5)}\n",
    "#parameters = { 'n_estimators': [60,1020,1500,2000]}\n",
    "#parameters = { 'n_estimators': [1500],'max_depth':range(2,7,1)}\n",
    "#parameters = { 'n_estimators': [1500],'max_depth':[3],'min_samples_split':range(2,7,1)}\n",
    "#parameters = { 'n_estimators': [1500],'max_depth':[3],'min_samples_split':[2],'min_samples_leaf':range(1,7,1)}\n",
    "#parameters = { 'n_estimators': [1500],'max_depth':[3],'min_samples_split':[2],'min_samples_leaf':[1],'learning_rate':[0.1,0.2,0.3,0.4,0.5,0.6,0.7,0.8,0.9,0.01,0.09]}\n",
    "parameters = { 'n_estimators': [1500],'max_depth':[3],'min_samples_split':[2],'min_samples_leaf':[1],'learning_rate':[0.1]}\n",
    "\n",
    "# TODO: Make an fbeta_score scoring object using make_scorer()\n",
    "scorer = make_scorer(roc_auc_score)\n",
    "\n",
    "# TODO: Perform grid search on the classifier using 'scorer' as the scoring method using GridSearchCV()\n",
    "grid_obj = GridSearchCV(estimator=clf,param_grid=parameters,scoring=scorer,n_jobs=-1,cv=5)\n",
    "\n",
    "# TODO: Fit the grid search object to the training data and find the optimal parameters using fit()\n",
    "grid_fit = grid_obj.fit(X_train,y_train)\n",
    "\n",
    "# Get the estimator\n",
    "best_clf = grid_fit.best_estimator_\n",
    "\n",
    "# Make predictions using the unoptimized and model\n",
    "predictions = (clf.fit(X_train, y_train)).predict_proba(X_test)[:, 1]\n",
    "best_predictions = best_clf.predict_proba(X_test)[:, 1]\n",
    "\n",
    "# Report the before-and-afterscores\n",
    "print(\"Unoptimized model\\n------\")\n",
    "#print(\"Accuracy score on testing data: {:.4f}\".format(accuracy_score(y_test, predictions)))\n",
    "print(\"ROC-AUC score on testing data: {:.4f}\".format(roc_auc_score(y_test, predictions)))\n",
    "#print(\"F-score on testing data: {:.4f}\".format(fbeta_score(y_test, predictions, beta = 0.5)))\n",
    "print(\"\\nOptimized Model\\n------\")\n",
    "#print(\"Final accuracy score on the testing data: {:.4f}\".format(accuracy_score(y_test, best_predictions)))\n",
    "print(\"Final ROC-AUC score on the testing data: {:.4f}\".format(roc_auc_score(y_test, best_predictions)))\n",
    "#print(\"Final F-score on the testing data: {:.4f}\".format(fbeta_score(y_test, best_predictions, beta = 0.5)))"
   ]
  },
  {
   "cell_type": "code",
   "execution_count": 32,
   "metadata": {},
   "outputs": [
    {
     "data": {
      "text/plain": [
       "{'ccp_alpha': 0.0,\n",
       " 'criterion': 'friedman_mse',\n",
       " 'init': None,\n",
       " 'learning_rate': 0.1,\n",
       " 'loss': 'deviance',\n",
       " 'max_depth': 3,\n",
       " 'max_features': None,\n",
       " 'max_leaf_nodes': None,\n",
       " 'min_impurity_decrease': 0.0,\n",
       " 'min_samples_leaf': 1,\n",
       " 'min_samples_split': 2,\n",
       " 'min_weight_fraction_leaf': 0.0,\n",
       " 'n_estimators': 1500,\n",
       " 'n_iter_no_change': None,\n",
       " 'random_state': 42,\n",
       " 'subsample': 1.0,\n",
       " 'tol': 0.0001,\n",
       " 'validation_fraction': 0.1,\n",
       " 'verbose': 0,\n",
       " 'warm_start': False}"
      ]
     },
     "execution_count": 32,
     "metadata": {},
     "output_type": "execute_result"
    }
   ],
   "source": [
    "best_clf.get_params(['deep'])"
   ]
  },
  {
   "cell_type": "markdown",
   "metadata": {},
   "source": [
    "# PRED ON TEST"
   ]
  },
  {
   "cell_type": "code",
   "execution_count": 33,
   "metadata": {},
   "outputs": [
    {
     "data": {
      "text/plain": [
       "XGBClassifier(base_score=0.5, booster='gbtree', callbacks=None,\n",
       "              colsample_bylevel=1, colsample_bynode=1, colsample_bytree=1,\n",
       "              early_stopping_rounds=None, enable_categorical=False,\n",
       "              eval_metric=None, gamma=0, gpu_id=0, grow_policy='depthwise',\n",
       "              importance_type=None, interaction_constraints='',\n",
       "              learning_rate=0.3, max_bin=256, max_cat_to_onehot=4,\n",
       "              max_delta_step=0, max_depth=5, max_leaves=0, min_child_weight=0,\n",
       "              missing=nan, monotone_constraints='()', n_estimators=120,\n",
       "              n_jobs=0, num_parallel_tree=1, predictor='auto', random_state=0,\n",
       "              reg_alpha=0, reg_lambda=1, ...)"
      ]
     },
     "execution_count": 33,
     "metadata": {},
     "output_type": "execute_result"
    }
   ],
   "source": [
    "model=XGBClassifier(tree_method='gpu_hist',use_rmm=True,n_estimators=120,max_depth=5,min_child_weight=0,subsample=0.93,learning_rate=0.3,gamma=0)\n",
    "model.fit(X1,y)"
   ]
  },
  {
   "cell_type": "code",
   "execution_count": 34,
   "metadata": {},
   "outputs": [
    {
     "data": {
      "text/plain": [
       "LGBMClassifier(min_child_samples=6, n_estimators=90, random_state=42,\n",
       "               subsample=0.01)"
      ]
     },
     "execution_count": 34,
     "metadata": {},
     "output_type": "execute_result"
    }
   ],
   "source": [
    "model2=lgb.LGBMClassifier(random_state=42,boosting_type='gbdt',n_estimators=90,max_depth=-1,learning_rate=0.1,min_child_samples=6,subsample=0.01)\n",
    "model2.fit(X1,y)"
   ]
  },
  {
   "cell_type": "code",
   "execution_count": 35,
   "metadata": {},
   "outputs": [
    {
     "data": {
      "text/plain": [
       "GradientBoostingClassifier(n_estimators=1500, random_state=42)"
      ]
     },
     "execution_count": 35,
     "metadata": {},
     "output_type": "execute_result"
    }
   ],
   "source": [
    "model3=GradientBoostingClassifier(random_state=42,n_estimators=1500,max_depth=3,min_samples_split=2,min_samples_leaf=1,learning_rate=0.1)\n",
    "model3.fit(X1,y)"
   ]
  },
  {
   "cell_type": "code",
   "execution_count": 36,
   "metadata": {},
   "outputs": [
    {
     "name": "stdout",
     "output_type": "stream",
     "text": [
      "[6.74521639e-02 6.52287277e-02 8.62947636e-02 3.83419155e-02\n",
      " 4.09608642e-02 7.64007889e-04 0.00000000e+00 1.01457356e-02\n",
      " 1.03557471e-02 3.35861315e-03 0.00000000e+00 9.91336981e-04\n",
      " 7.12609027e-03 3.43532704e-03 1.38255664e-03 2.40150143e-03\n",
      " 0.00000000e+00 5.53418265e-03 2.74106916e-03 2.29354883e-03\n",
      " 1.47646714e-03 1.44076757e-02 5.36314407e-03 9.33550352e-03\n",
      " 1.05210385e-02 1.91202671e-03 1.25781556e-02 1.73730887e-03\n",
      " 1.14726834e-02 0.00000000e+00 1.07316636e-01 0.00000000e+00\n",
      " 6.19940252e-02 5.72887944e-03 1.42000163e-03 8.01652378e-03\n",
      " 1.09767741e-03 2.23930163e-03 2.08117810e-02 3.72249837e-03\n",
      " 6.60664663e-03 1.24320187e-03 1.58663347e-02 9.07838826e-04\n",
      " 1.69684079e-02 1.41574434e-03 1.49892138e-03 0.00000000e+00\n",
      " 0.00000000e+00 8.45794010e-02 2.03446097e-02 8.51467773e-03\n",
      " 3.28511398e-02 1.42395725e-02 6.49002968e-03 8.63566962e-05\n",
      " 1.93992723e-03 5.32268557e-03 0.00000000e+00 8.13461610e-03\n",
      " 3.17452642e-02 2.78465146e-02 5.04618094e-04 0.00000000e+00\n",
      " 0.00000000e+00 0.00000000e+00 2.71979810e-04 8.57767137e-04\n",
      " 0.00000000e+00 0.00000000e+00 0.00000000e+00 2.22183116e-03\n",
      " 0.00000000e+00 2.73211541e-03 1.68529186e-03 0.00000000e+00\n",
      " 0.00000000e+00 2.54304207e-03 0.00000000e+00 3.79902674e-03\n",
      " 0.00000000e+00 1.28055242e-04 0.00000000e+00 8.23623141e-04\n",
      " 0.00000000e+00 4.97593999e-03 1.06635235e-03 5.36841358e-03\n",
      " 1.05222606e-03 0.00000000e+00 0.00000000e+00 1.60573680e-03\n",
      " 0.00000000e+00 1.39772760e-05 1.91766044e-03 2.70971351e-04\n",
      " 2.59392149e-04 0.00000000e+00 2.64796155e-03 0.00000000e+00\n",
      " 6.20360849e-03 5.44675416e-04 5.61424399e-04]\n"
     ]
    }
   ],
   "source": [
    "from sklearn.feature_selection import mutual_info_classif as MIC\n",
    "mi_score = MIC(X1,y)\n",
    "print(mi_score)"
   ]
  },
  {
   "cell_type": "code",
   "execution_count": 37,
   "metadata": {},
   "outputs": [],
   "source": [
    "mi_score_selected_index = np.where(mi_score >0.002)[0]"
   ]
  },
  {
   "cell_type": "code",
   "execution_count": 38,
   "metadata": {},
   "outputs": [],
   "source": [
    "X1=X1.values"
   ]
  },
  {
   "cell_type": "code",
   "execution_count": 39,
   "metadata": {},
   "outputs": [
    {
     "data": {
      "text/plain": [
       "GradientBoostingClassifier(n_estimators=1500, random_state=42)"
      ]
     },
     "execution_count": 39,
     "metadata": {},
     "output_type": "execute_result"
    }
   ],
   "source": [
    "X_2 = X1[:,mi_score_selected_index]\n",
    "model3_1=GradientBoostingClassifier(random_state=42,n_estimators=1500,max_depth=3,min_samples_split=2,min_samples_leaf=1,learning_rate=0.1)\n",
    "model3_1.fit(X_2,y)"
   ]
  },
  {
   "cell_type": "code",
   "execution_count": 40,
   "metadata": {},
   "outputs": [
    {
     "data": {
      "text/plain": [
       "GradientBoostingClassifier(n_estimators=1500, random_state=42)"
      ]
     },
     "execution_count": 40,
     "metadata": {},
     "output_type": "execute_result"
    }
   ],
   "source": [
    "mi_score_selected_index = np.where(mi_score <0.002)[0]\n",
    "X_3 = X1[:,mi_score_selected_index]\n",
    "model3_2=GradientBoostingClassifier(random_state=42,n_estimators=1500,max_depth=3,min_samples_split=2,min_samples_leaf=1,learning_rate=0.1)\n",
    "model3_2.fit(X_3,y)"
   ]
  },
  {
   "cell_type": "code",
   "execution_count": 41,
   "metadata": {},
   "outputs": [],
   "source": [
    "predmodel1=model.predict_proba(test1)[:, 1]\n",
    "predmodel2=model2.predict_proba(test1)[:, 1]\n",
    "predmodel3=model3.predict_proba(test1)[:, 1]\n",
    "\n",
    "testval=test1.values\n",
    "mi_score_selected_index = np.where(mi_score >0.002)[0]\n",
    "new_test1=testval[:,mi_score_selected_index]\n",
    "predmodel3_1=model3_1.predict_proba(new_test1)[:, 1]\n",
    "\n",
    "mi_score_selected_index = np.where(mi_score <0.002)[0]\n",
    "new_test1=testval[:,mi_score_selected_index]\n",
    "predmodel3_2=model3_2.predict_proba(new_test1)[:, 1]"
   ]
  },
  {
   "cell_type": "code",
   "execution_count": 42,
   "metadata": {},
   "outputs": [],
   "source": [
    "sub = pd.read_csv('dataset/test_census.csv')\n",
    "Final = pd.DataFrame()\n",
    "Final['id']=sub.iloc[:,0]\n",
    "Final['income']=predmodel1\n",
    "Final.to_csv(\"Final_Test_Pred_XGB.csv\",index=False)"
   ]
  },
  {
   "cell_type": "code",
   "execution_count": 43,
   "metadata": {},
   "outputs": [],
   "source": [
    "sub = pd.read_csv('dataset/test_census.csv')\n",
    "Final = pd.DataFrame()\n",
    "Final['id']=sub.iloc[:,0]\n",
    "Final['income']=predmodel2\n",
    "Final.to_csv(\"Final_Test_Pred_LGb.csv\",index=False)"
   ]
  },
  {
   "cell_type": "code",
   "execution_count": 44,
   "metadata": {},
   "outputs": [],
   "source": [
    "sub = pd.read_csv('dataset/test_census.csv')\n",
    "Final = pd.DataFrame()\n",
    "Final['id']=sub.iloc[:,0]\n",
    "Final['income']=predmodel3\n",
    "Final.to_csv(\"Final_Test_Pred_GBC.csv\",index=False)"
   ]
  },
  {
   "cell_type": "code",
   "execution_count": 45,
   "metadata": {},
   "outputs": [],
   "source": [
    "sub = pd.read_csv('dataset/test_census.csv')\n",
    "Final = pd.DataFrame()\n",
    "Final['id']=sub.iloc[:,0]\n",
    "Final['income']=(model.predict_proba(test1)[:, 1] + model3.predict_proba(test1)[:, 1]) /2\n",
    "Final.to_csv(\"Final_Test_Pred_Top2(XGB+GB).csv\",index=False)"
   ]
  },
  {
   "cell_type": "code",
   "execution_count": 46,
   "metadata": {},
   "outputs": [],
   "source": [
    "sub = pd.read_csv('dataset/test_census.csv')\n",
    "Final = pd.DataFrame()\n",
    "Final['id']=sub.iloc[:,0]\n",
    "Final['income']=(model.predict_proba(test1)[:, 1] + model2.predict_proba(test1)[:, 1] + model3.predict_proba(test1)[:, 1]) /3\n",
    "Final.to_csv(\"Final_Test_Pred_All(XGB+GB+LGBM).csv\",index=False)"
   ]
  },
  {
   "cell_type": "code",
   "execution_count": 47,
   "metadata": {},
   "outputs": [],
   "source": [
    "sub = pd.read_csv('dataset/test_census.csv')\n",
    "Final = pd.DataFrame()\n",
    "Final['id']=sub.iloc[:,0]\n",
    "Final['income']=(predmodel3+predmodel3_1+predmodel3_2) /3\n",
    "Final.to_csv(\"Final_Test_Pred(GB+L+H).csv\",index=False)"
   ]
  },
  {
   "cell_type": "code",
   "execution_count": 48,
   "metadata": {},
   "outputs": [],
   "source": [
    "sub = pd.read_csv('dataset/test_census.csv')\n",
    "Final = pd.DataFrame()\n",
    "Final['id']=sub.iloc[:,0]\n",
    "Final['income']=predmodel3_1\n",
    "Final.to_csv(\"Final_Test_Pred(H).csv\",index=False)"
   ]
  },
  {
   "cell_type": "code",
   "execution_count": 49,
   "metadata": {},
   "outputs": [],
   "source": [
    "sub = pd.read_csv('dataset/test_census.csv')\n",
    "Final = pd.DataFrame()\n",
    "Final['id']=sub.iloc[:,0]\n",
    "Final['income']=(predmodel3+predmodel3_1) /2\n",
    "Final.to_csv(\"Final_Test_Pred(GB+H).csv\",index=False)"
   ]
  },
  {
   "cell_type": "markdown",
   "metadata": {},
   "source": [
    "# score on kaggel\n",
    "| Model | Score |\n",
    "| :----: | :---: |\n",
    "| XGBClassifier | 0.94672 |\n",
    "| LGBMClassifier | 0.94012 |\n",
    "| GradientBoostingClassifier | 0.94725 |\n",
    "| Top2(XGB+GB) | 0.94784 |\n",
    "| All(XGB+GB+LGBM) | 0.94620 |\n",
    "| GradientBoostingClassifier+L+H | 0.94381 |\n",
    "| GradientBoostingClassifier(H only) | 0.94104 |\n",
    "| GradientBoostingClassifier+H | 0.94614 |"
   ]
  }
 ],
 "metadata": {
  "kernelspec": {
   "display_name": "Python 3.9.7 ('base')",
   "language": "python",
   "name": "python3"
  },
  "language_info": {
   "codemirror_mode": {
    "name": "ipython",
    "version": 3
   },
   "file_extension": ".py",
   "mimetype": "text/x-python",
   "name": "python",
   "nbconvert_exporter": "python",
   "pygments_lexer": "ipython3",
   "version": "3.9.13"
  },
  "orig_nbformat": 4,
  "vscode": {
   "interpreter": {
    "hash": "e246d2215c418239c9316a1ebf2d8abb44dc50b2e5b0e29defd87143398aa387"
   }
  }
 },
 "nbformat": 4,
 "nbformat_minor": 2
}
